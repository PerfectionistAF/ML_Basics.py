{
 "cells": [
  {
   "cell_type": "markdown",
   "id": "e933c3f7",
   "metadata": {},
   "source": [
    "# CSE381: Assignment 1\n",
    "## Fall 2022 \n",
    "\n",
    "Sohayla Ihab Hamed 19P7343"
   ]
  },
  {
   "cell_type": "markdown",
   "id": "e81671aa",
   "metadata": {},
   "source": [
    "### Question 1:"
   ]
  },
  {
   "cell_type": "code",
   "execution_count": null,
   "id": "70409145",
   "metadata": {},
   "outputs": [],
   "source": [
    "import numpy as np\n",
    "from matplotlib import pyplot as plt"
   ]
  },
  {
   "cell_type": "code",
   "execution_count": null,
   "id": "7b837556",
   "metadata": {},
   "outputs": [],
   "source": [
    "# GENERATE DATASET X1: 400 samples, 2D, 2 classes, divided equally into halves\n",
    "\n",
    "N_CLUSTER = 2 \n",
    "N_FEATURES = 2\n",
    "_N = 200\n",
    "N_SAMPLE = _N * N_CLUSTER"
   ]
  },
  {
   "cell_type": "code",
   "execution_count": null,
   "id": "e249015e",
   "metadata": {},
   "outputs": [],
   "source": [
    "# 2 samples and their means, mu1 and mu2 respectively with a common covariance, sigma\n",
    "\n",
    "S1 = np.identity(N_FEATURES)\n",
    "S1[0,1] = S1[1,0] = 0\n",
    "S2 = np.identity(N_FEATURES)*0.1\n",
    "\n",
    "mu1 = np.array([-8, 8])\n",
    "mu2 = np.array([8, 8])\n",
    "\n",
    "np_means = np.array([mu1,mu2])\n",
    "np_sigmas = np.array([S1,S2])"
   ]
  },
  {
   "cell_type": "code",
   "execution_count": null,
   "id": "4c211d25",
   "metadata": {},
   "outputs": [],
   "source": [
    "# Draw the graph using matplotlib\n",
    "\n",
    "colors = np.array([\"red\",blue\"])\n",
    "npX = []\n",
    "plt.figure(figsize=(10,10))\n",
    "for icluster in range(N_CLUSTER):\n",
    "    color = colors[icluster]\n",
    "    npmean = np_means[icluster]\n",
    "    s_cluster = np.random.multivariate_normal(npmean,np_sigmas[icluster],_N)\n",
    "    npX.extend(s_cluster)\n",
    "    plt.plot(npmean[0],npmean[1],\"X\",color=color)\n",
    "\n",
    "plt.plot(s_cluster[:,0],s_cluster[:,1],\"p\",alpha=0.5,color=color,label=\"cluster={}\".format(icluster))\n",
    "plt.title(\"Sample distribution from {} clusters\".format(N_CLUSTER))\n",
    "plt.legend()\n",
    "plt.show()"
   ]
  },
  {
   "cell_type": "code",
   "execution_count": null,
   "id": "2d80f0f6",
   "metadata": {},
   "outputs": [],
   "source": []
  }
 ],
 "metadata": {
  "kernelspec": {
   "display_name": "Python 3 (ipykernel)",
   "language": "python",
   "name": "python3"
  }
 },
 "nbformat": 4,
 "nbformat_minor": 5
}
